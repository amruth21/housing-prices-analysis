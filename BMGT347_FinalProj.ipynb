{
  "cells": [
    {
      "cell_type": "markdown",
      "source": [
        "# BMGT347 Final Group Project"
      ],
      "metadata": {
        "id": "rP_jnNCC9SyI"
      }
    },
    {
      "cell_type": "code",
      "execution_count": 110,
      "metadata": {
        "id": "s8FAF4j7LOZq"
      },
      "outputs": [],
      "source": [
        "import numpy as np\n",
        "import pandas as pd\n",
        "import matplotlib.pyplot as plt\n",
        "from sklearn import model_selection\n",
        "from sklearn.linear_model import LinearRegression, Ridge, RidgeCV, Lasso, LassoCV, ElasticNet, ElasticNetCV\n",
        "from sklearn.model_selection import train_test_split, KFold, cross_val_score\n",
        "from sklearn.metrics import mean_squared_error, r2_score\n",
        "from sklearn.preprocessing import PolynomialFeatures, add_dummy_feature\n",
        "from sklearn.ensemble import RandomForestRegressor\n",
        "import statsmodels.formula.api as smf\n",
        "import sklearn.linear_model as skl_lm\n",
        "import statsmodels.api as sm\n",
        "from sklearn.preprocessing import scale"
      ]
    },
    {
      "cell_type": "code",
      "execution_count": 111,
      "metadata": {
        "id": "lPlgbZYqMbiw",
        "colab": {
          "base_uri": "https://localhost:8080/"
        },
        "outputId": "7a112c8e-73b6-4115-b438-c1e1117cd239"
      },
      "outputs": [
        {
          "output_type": "stream",
          "name": "stdout",
          "text": [
            "Drive already mounted at /content/drive; to attempt to forcibly remount, call drive.mount(\"/content/drive\", force_remount=True).\n"
          ]
        }
      ],
      "source": [
        "from google.colab import drive\n",
        "drive.mount('/content/drive')"
      ]
    },
    {
      "cell_type": "code",
      "execution_count": 112,
      "metadata": {
        "colab": {
          "base_uri": "https://localhost:8080/"
        },
        "id": "kvuJQxaqXcce",
        "outputId": "cc1af5b6-9283-406f-fc01-c977656f5c22"
      },
      "outputs": [
        {
          "output_type": "stream",
          "name": "stdout",
          "text": [
            "Index(['permno', 'date', 're', 'size', 'value', 'prof', 'valprof', 'fscore',\n",
            "       'debtiss', 'repurch', 'nissa', 'accruals', 'growth', 'aturnover',\n",
            "       'gmargins', 'ep', 'cfp', 'noa', 'inv', 'invcap', 'igrowth', 'sgrowth',\n",
            "       'lev', 'roaa', 'roea', 'sp', 'mom', 'indmom', 'valmom', 'valmomprof',\n",
            "       'mom12', 'momrev', 'lrrev', 'valuem', 'nissm', 'roe', 'rome', 'strev',\n",
            "       'ivol', 'betaarb', 'season', 'indrrev', 'ciss', 'price', 'age',\n",
            "       'shvol'],\n",
            "      dtype='object')\n"
          ]
        }
      ],
      "source": [
        "#upload the file to your Google Drive and change the path accordingly\n",
        "#for example, if you upload the csv file to your Google Drive folder directly, then you can run: data = pd.read_csv('/content/drive/My Drive/characteristics_anom.csv')\n",
        "\n",
        "data = pd.read_csv('/content/drive/My Drive/characteristics_anom.csv')\n",
        "data.head()\n",
        "print(data.columns)"
      ]
    },
    {
      "cell_type": "code",
      "execution_count": 113,
      "metadata": {
        "id": "lcH35spnFIPP"
      },
      "outputs": [],
      "source": [
        "#create a new variable for year\n",
        "data['year'] = pd.DatetimeIndex(data['date']).year"
      ]
    },
    {
      "cell_type": "code",
      "execution_count": 114,
      "metadata": {
        "colab": {
          "base_uri": "https://localhost:8080/"
        },
        "id": "iU609_8FGXJ6",
        "outputId": "df533f18-97be-4228-df02-c3174eaa050b"
      },
      "outputs": [
        {
          "output_type": "stream",
          "name": "stdout",
          "text": [
            "X variables:  ['size' 'value' 'prof' 'valprof' 'fscore' 'debtiss' 'repurch' 'nissa'\n",
            " 'accruals' 'growth' 'aturnover' 'gmargins' 'ep' 'cfp' 'noa' 'inv'\n",
            " 'invcap' 'igrowth' 'sgrowth' 'lev' 'roaa' 'roea' 'sp' 'mom' 'indmom'\n",
            " 'valmom' 'valmomprof' 'mom12' 'momrev' 'lrrev' 'valuem' 'nissm' 'roe'\n",
            " 'rome' 'strev' 'ivol' 'betaarb' 'season' 'indrrev' 'ciss' 'price' 'age'\n",
            " 'shvol' 'year']\n",
            "y variable:  re\n"
          ]
        }
      ],
      "source": [
        "data = data.set_index(['permno', 'date'])\n",
        "X_var_names = data.columns[1:]\n",
        "y_var_name = data.columns[0]\n",
        "print('X variables: ', X_var_names.values)\n",
        "print('y variable: ', y_var_name)"
      ]
    },
    {
      "cell_type": "code",
      "execution_count": 115,
      "metadata": {
        "colab": {
          "base_uri": "https://localhost:8080/",
          "height": 462
        },
        "id": "JuPIlDL_FlzZ",
        "outputId": "5ea2fab5-ee36-4002-d3eb-8f759dcccd52"
      },
      "outputs": [
        {
          "output_type": "execute_result",
          "data": {
            "text/plain": [
              "                    size     value      prof   valprof    fscore   debtiss  \\\n",
              "permno date                                                                  \n",
              "10006  07/1972  0.699925  0.649009 -0.773268 -0.441137 -1.057577 -1.191008   \n",
              "10102  07/1972  0.538023  1.406381 -0.604513  0.939781  0.432276 -1.191008   \n",
              "10145  07/1972  1.379123  1.073137 -0.641500  0.334379  0.432276 -1.191008   \n",
              "10153  07/1972  0.186578  1.688356 -0.463498  1.385077 -0.339504 -1.191008   \n",
              "10161  07/1972  1.313967  0.667652 -1.170883 -0.898941 -1.057577 -1.191008   \n",
              "...                  ...       ...       ...       ...       ...       ...   \n",
              "93420  12/2017 -0.412146  1.475956 -1.091624  0.187793 -1.211798 -0.764533   \n",
              "93423  12/2017  0.589454 -1.512324  0.263496 -1.511108 -0.461570 -0.764533   \n",
              "93428  12/2017 -0.842212 -0.805159  0.961403  0.187793  1.369496  1.307284   \n",
              "93429  12/2017  1.004429 -1.617389  1.577921  0.252935 -0.461570  1.307284   \n",
              "93436  12/2017  1.585395 -1.172885 -0.800660 -1.680477 -1.211798 -0.764533   \n",
              "\n",
              "                 repurch     nissa  accruals    growth  ...     strev  \\\n",
              "permno date                                             ...             \n",
              "10006  07/1972 -0.443104 -2.053981  0.163833 -0.265807  ...  0.169149   \n",
              "10102  07/1972 -0.443104  0.827987  0.266576 -0.647289  ... -0.677317   \n",
              "10145  07/1972 -0.443104 -0.480636 -0.022215 -0.622677  ... -0.095248   \n",
              "10153  07/1972  2.255521 -2.121410 -0.502607 -0.876178  ... -1.223870   \n",
              "10161  07/1972 -0.443104 -0.195935  0.463731  1.070611  ...  0.944583   \n",
              "...                  ...       ...       ...       ...  ...       ...   \n",
              "93420  12/2017  0.776055  1.583291 -0.535687  0.559501  ...  0.894187   \n",
              "93423  12/2017  0.776055 -1.259711  0.052951 -0.387347  ...  0.413537   \n",
              "93428  12/2017 -1.287875  1.068881  1.355837  0.623558  ... -0.687486   \n",
              "93429  12/2017  0.776055  1.622559  1.513464  1.250119  ...  1.050678   \n",
              "93436  12/2017 -1.287875  1.392842 -1.673557  1.700523  ... -1.386105   \n",
              "\n",
              "                    ivol   betaarb    season   indrrev      ciss     price  \\\n",
              "permno date                                                                  \n",
              "10006  07/1972 -0.253520 -0.597934 -0.762987 -0.549901 -1.220848  1.117585   \n",
              "10102  07/1972 -0.658350  0.556359 -1.199386 -0.482659 -0.027322 -0.683487   \n",
              "10145  07/1972  0.235483  0.346043  0.557622 -0.108870 -0.970639  0.395970   \n",
              "10153  07/1972  0.596222  0.776458  0.432121 -1.216393  0.660034 -1.280549   \n",
              "10161  07/1972 -1.145348 -0.350934 -0.680270  0.721773 -0.579507  0.427603   \n",
              "...                  ...       ...       ...       ...       ...       ...   \n",
              "93420  12/2017  1.461344  1.722207 -1.695544  1.031494  1.679213 -1.609926   \n",
              "93423  12/2017 -0.003766 -1.423774  0.900504  0.464172 -1.500375  0.609028   \n",
              "93428  12/2017 -0.949121  0.520185  0.779973  0.061125  0.281030  0.323973   \n",
              "93429  12/2017 -1.352120 -1.643454 -0.191227  0.746878 -0.524899  1.341227   \n",
              "93436  12/2017  0.892625  0.963690  1.466072 -1.258808  1.386570  1.680311   \n",
              "\n",
              "                     age     shvol  year  \n",
              "permno date                               \n",
              "10006  07/1972  1.213013  0.524622  1972  \n",
              "10102  07/1972  1.213013 -0.411568  1972  \n",
              "10145  07/1972  1.213013  0.102147  1972  \n",
              "10153  07/1972  1.213013  0.177518  1972  \n",
              "10161  07/1972  1.213013 -0.645615  1972  \n",
              "...                  ...       ...   ...  \n",
              "93420  12/2017 -0.864585  1.629615  2017  \n",
              "93423  12/2017 -0.864585  1.317163  2017  \n",
              "93428  12/2017 -0.864585  1.655809  2017  \n",
              "93429  12/2017 -0.864585  0.529485  2017  \n",
              "93436  12/2017 -0.864585  1.657680  2017  \n",
              "\n",
              "[502636 rows x 44 columns]"
            ],
            "text/html": [
              "\n",
              "  <div id=\"df-297de148-232b-4d1a-a7ea-f8a71c729a78\" class=\"colab-df-container\">\n",
              "    <div>\n",
              "<style scoped>\n",
              "    .dataframe tbody tr th:only-of-type {\n",
              "        vertical-align: middle;\n",
              "    }\n",
              "\n",
              "    .dataframe tbody tr th {\n",
              "        vertical-align: top;\n",
              "    }\n",
              "\n",
              "    .dataframe thead th {\n",
              "        text-align: right;\n",
              "    }\n",
              "</style>\n",
              "<table border=\"1\" class=\"dataframe\">\n",
              "  <thead>\n",
              "    <tr style=\"text-align: right;\">\n",
              "      <th></th>\n",
              "      <th></th>\n",
              "      <th>size</th>\n",
              "      <th>value</th>\n",
              "      <th>prof</th>\n",
              "      <th>valprof</th>\n",
              "      <th>fscore</th>\n",
              "      <th>debtiss</th>\n",
              "      <th>repurch</th>\n",
              "      <th>nissa</th>\n",
              "      <th>accruals</th>\n",
              "      <th>growth</th>\n",
              "      <th>...</th>\n",
              "      <th>strev</th>\n",
              "      <th>ivol</th>\n",
              "      <th>betaarb</th>\n",
              "      <th>season</th>\n",
              "      <th>indrrev</th>\n",
              "      <th>ciss</th>\n",
              "      <th>price</th>\n",
              "      <th>age</th>\n",
              "      <th>shvol</th>\n",
              "      <th>year</th>\n",
              "    </tr>\n",
              "    <tr>\n",
              "      <th>permno</th>\n",
              "      <th>date</th>\n",
              "      <th></th>\n",
              "      <th></th>\n",
              "      <th></th>\n",
              "      <th></th>\n",
              "      <th></th>\n",
              "      <th></th>\n",
              "      <th></th>\n",
              "      <th></th>\n",
              "      <th></th>\n",
              "      <th></th>\n",
              "      <th></th>\n",
              "      <th></th>\n",
              "      <th></th>\n",
              "      <th></th>\n",
              "      <th></th>\n",
              "      <th></th>\n",
              "      <th></th>\n",
              "      <th></th>\n",
              "      <th></th>\n",
              "      <th></th>\n",
              "      <th></th>\n",
              "    </tr>\n",
              "  </thead>\n",
              "  <tbody>\n",
              "    <tr>\n",
              "      <th>10006</th>\n",
              "      <th>07/1972</th>\n",
              "      <td>0.699925</td>\n",
              "      <td>0.649009</td>\n",
              "      <td>-0.773268</td>\n",
              "      <td>-0.441137</td>\n",
              "      <td>-1.057577</td>\n",
              "      <td>-1.191008</td>\n",
              "      <td>-0.443104</td>\n",
              "      <td>-2.053981</td>\n",
              "      <td>0.163833</td>\n",
              "      <td>-0.265807</td>\n",
              "      <td>...</td>\n",
              "      <td>0.169149</td>\n",
              "      <td>-0.253520</td>\n",
              "      <td>-0.597934</td>\n",
              "      <td>-0.762987</td>\n",
              "      <td>-0.549901</td>\n",
              "      <td>-1.220848</td>\n",
              "      <td>1.117585</td>\n",
              "      <td>1.213013</td>\n",
              "      <td>0.524622</td>\n",
              "      <td>1972</td>\n",
              "    </tr>\n",
              "    <tr>\n",
              "      <th>10102</th>\n",
              "      <th>07/1972</th>\n",
              "      <td>0.538023</td>\n",
              "      <td>1.406381</td>\n",
              "      <td>-0.604513</td>\n",
              "      <td>0.939781</td>\n",
              "      <td>0.432276</td>\n",
              "      <td>-1.191008</td>\n",
              "      <td>-0.443104</td>\n",
              "      <td>0.827987</td>\n",
              "      <td>0.266576</td>\n",
              "      <td>-0.647289</td>\n",
              "      <td>...</td>\n",
              "      <td>-0.677317</td>\n",
              "      <td>-0.658350</td>\n",
              "      <td>0.556359</td>\n",
              "      <td>-1.199386</td>\n",
              "      <td>-0.482659</td>\n",
              "      <td>-0.027322</td>\n",
              "      <td>-0.683487</td>\n",
              "      <td>1.213013</td>\n",
              "      <td>-0.411568</td>\n",
              "      <td>1972</td>\n",
              "    </tr>\n",
              "    <tr>\n",
              "      <th>10145</th>\n",
              "      <th>07/1972</th>\n",
              "      <td>1.379123</td>\n",
              "      <td>1.073137</td>\n",
              "      <td>-0.641500</td>\n",
              "      <td>0.334379</td>\n",
              "      <td>0.432276</td>\n",
              "      <td>-1.191008</td>\n",
              "      <td>-0.443104</td>\n",
              "      <td>-0.480636</td>\n",
              "      <td>-0.022215</td>\n",
              "      <td>-0.622677</td>\n",
              "      <td>...</td>\n",
              "      <td>-0.095248</td>\n",
              "      <td>0.235483</td>\n",
              "      <td>0.346043</td>\n",
              "      <td>0.557622</td>\n",
              "      <td>-0.108870</td>\n",
              "      <td>-0.970639</td>\n",
              "      <td>0.395970</td>\n",
              "      <td>1.213013</td>\n",
              "      <td>0.102147</td>\n",
              "      <td>1972</td>\n",
              "    </tr>\n",
              "    <tr>\n",
              "      <th>10153</th>\n",
              "      <th>07/1972</th>\n",
              "      <td>0.186578</td>\n",
              "      <td>1.688356</td>\n",
              "      <td>-0.463498</td>\n",
              "      <td>1.385077</td>\n",
              "      <td>-0.339504</td>\n",
              "      <td>-1.191008</td>\n",
              "      <td>2.255521</td>\n",
              "      <td>-2.121410</td>\n",
              "      <td>-0.502607</td>\n",
              "      <td>-0.876178</td>\n",
              "      <td>...</td>\n",
              "      <td>-1.223870</td>\n",
              "      <td>0.596222</td>\n",
              "      <td>0.776458</td>\n",
              "      <td>0.432121</td>\n",
              "      <td>-1.216393</td>\n",
              "      <td>0.660034</td>\n",
              "      <td>-1.280549</td>\n",
              "      <td>1.213013</td>\n",
              "      <td>0.177518</td>\n",
              "      <td>1972</td>\n",
              "    </tr>\n",
              "    <tr>\n",
              "      <th>10161</th>\n",
              "      <th>07/1972</th>\n",
              "      <td>1.313967</td>\n",
              "      <td>0.667652</td>\n",
              "      <td>-1.170883</td>\n",
              "      <td>-0.898941</td>\n",
              "      <td>-1.057577</td>\n",
              "      <td>-1.191008</td>\n",
              "      <td>-0.443104</td>\n",
              "      <td>-0.195935</td>\n",
              "      <td>0.463731</td>\n",
              "      <td>1.070611</td>\n",
              "      <td>...</td>\n",
              "      <td>0.944583</td>\n",
              "      <td>-1.145348</td>\n",
              "      <td>-0.350934</td>\n",
              "      <td>-0.680270</td>\n",
              "      <td>0.721773</td>\n",
              "      <td>-0.579507</td>\n",
              "      <td>0.427603</td>\n",
              "      <td>1.213013</td>\n",
              "      <td>-0.645615</td>\n",
              "      <td>1972</td>\n",
              "    </tr>\n",
              "    <tr>\n",
              "      <th>...</th>\n",
              "      <th>...</th>\n",
              "      <td>...</td>\n",
              "      <td>...</td>\n",
              "      <td>...</td>\n",
              "      <td>...</td>\n",
              "      <td>...</td>\n",
              "      <td>...</td>\n",
              "      <td>...</td>\n",
              "      <td>...</td>\n",
              "      <td>...</td>\n",
              "      <td>...</td>\n",
              "      <td>...</td>\n",
              "      <td>...</td>\n",
              "      <td>...</td>\n",
              "      <td>...</td>\n",
              "      <td>...</td>\n",
              "      <td>...</td>\n",
              "      <td>...</td>\n",
              "      <td>...</td>\n",
              "      <td>...</td>\n",
              "      <td>...</td>\n",
              "      <td>...</td>\n",
              "    </tr>\n",
              "    <tr>\n",
              "      <th>93420</th>\n",
              "      <th>12/2017</th>\n",
              "      <td>-0.412146</td>\n",
              "      <td>1.475956</td>\n",
              "      <td>-1.091624</td>\n",
              "      <td>0.187793</td>\n",
              "      <td>-1.211798</td>\n",
              "      <td>-0.764533</td>\n",
              "      <td>0.776055</td>\n",
              "      <td>1.583291</td>\n",
              "      <td>-0.535687</td>\n",
              "      <td>0.559501</td>\n",
              "      <td>...</td>\n",
              "      <td>0.894187</td>\n",
              "      <td>1.461344</td>\n",
              "      <td>1.722207</td>\n",
              "      <td>-1.695544</td>\n",
              "      <td>1.031494</td>\n",
              "      <td>1.679213</td>\n",
              "      <td>-1.609926</td>\n",
              "      <td>-0.864585</td>\n",
              "      <td>1.629615</td>\n",
              "      <td>2017</td>\n",
              "    </tr>\n",
              "    <tr>\n",
              "      <th>93423</th>\n",
              "      <th>12/2017</th>\n",
              "      <td>0.589454</td>\n",
              "      <td>-1.512324</td>\n",
              "      <td>0.263496</td>\n",
              "      <td>-1.511108</td>\n",
              "      <td>-0.461570</td>\n",
              "      <td>-0.764533</td>\n",
              "      <td>0.776055</td>\n",
              "      <td>-1.259711</td>\n",
              "      <td>0.052951</td>\n",
              "      <td>-0.387347</td>\n",
              "      <td>...</td>\n",
              "      <td>0.413537</td>\n",
              "      <td>-0.003766</td>\n",
              "      <td>-1.423774</td>\n",
              "      <td>0.900504</td>\n",
              "      <td>0.464172</td>\n",
              "      <td>-1.500375</td>\n",
              "      <td>0.609028</td>\n",
              "      <td>-0.864585</td>\n",
              "      <td>1.317163</td>\n",
              "      <td>2017</td>\n",
              "    </tr>\n",
              "    <tr>\n",
              "      <th>93428</th>\n",
              "      <th>12/2017</th>\n",
              "      <td>-0.842212</td>\n",
              "      <td>-0.805159</td>\n",
              "      <td>0.961403</td>\n",
              "      <td>0.187793</td>\n",
              "      <td>1.369496</td>\n",
              "      <td>1.307284</td>\n",
              "      <td>-1.287875</td>\n",
              "      <td>1.068881</td>\n",
              "      <td>1.355837</td>\n",
              "      <td>0.623558</td>\n",
              "      <td>...</td>\n",
              "      <td>-0.687486</td>\n",
              "      <td>-0.949121</td>\n",
              "      <td>0.520185</td>\n",
              "      <td>0.779973</td>\n",
              "      <td>0.061125</td>\n",
              "      <td>0.281030</td>\n",
              "      <td>0.323973</td>\n",
              "      <td>-0.864585</td>\n",
              "      <td>1.655809</td>\n",
              "      <td>2017</td>\n",
              "    </tr>\n",
              "    <tr>\n",
              "      <th>93429</th>\n",
              "      <th>12/2017</th>\n",
              "      <td>1.004429</td>\n",
              "      <td>-1.617389</td>\n",
              "      <td>1.577921</td>\n",
              "      <td>0.252935</td>\n",
              "      <td>-0.461570</td>\n",
              "      <td>1.307284</td>\n",
              "      <td>0.776055</td>\n",
              "      <td>1.622559</td>\n",
              "      <td>1.513464</td>\n",
              "      <td>1.250119</td>\n",
              "      <td>...</td>\n",
              "      <td>1.050678</td>\n",
              "      <td>-1.352120</td>\n",
              "      <td>-1.643454</td>\n",
              "      <td>-0.191227</td>\n",
              "      <td>0.746878</td>\n",
              "      <td>-0.524899</td>\n",
              "      <td>1.341227</td>\n",
              "      <td>-0.864585</td>\n",
              "      <td>0.529485</td>\n",
              "      <td>2017</td>\n",
              "    </tr>\n",
              "    <tr>\n",
              "      <th>93436</th>\n",
              "      <th>12/2017</th>\n",
              "      <td>1.585395</td>\n",
              "      <td>-1.172885</td>\n",
              "      <td>-0.800660</td>\n",
              "      <td>-1.680477</td>\n",
              "      <td>-1.211798</td>\n",
              "      <td>-0.764533</td>\n",
              "      <td>-1.287875</td>\n",
              "      <td>1.392842</td>\n",
              "      <td>-1.673557</td>\n",
              "      <td>1.700523</td>\n",
              "      <td>...</td>\n",
              "      <td>-1.386105</td>\n",
              "      <td>0.892625</td>\n",
              "      <td>0.963690</td>\n",
              "      <td>1.466072</td>\n",
              "      <td>-1.258808</td>\n",
              "      <td>1.386570</td>\n",
              "      <td>1.680311</td>\n",
              "      <td>-0.864585</td>\n",
              "      <td>1.657680</td>\n",
              "      <td>2017</td>\n",
              "    </tr>\n",
              "  </tbody>\n",
              "</table>\n",
              "<p>502636 rows × 44 columns</p>\n",
              "</div>\n",
              "    <div class=\"colab-df-buttons\">\n",
              "\n",
              "  <div class=\"colab-df-container\">\n",
              "    <button class=\"colab-df-convert\" onclick=\"convertToInteractive('df-297de148-232b-4d1a-a7ea-f8a71c729a78')\"\n",
              "            title=\"Convert this dataframe to an interactive table.\"\n",
              "            style=\"display:none;\">\n",
              "\n",
              "  <svg xmlns=\"http://www.w3.org/2000/svg\" height=\"24px\" viewBox=\"0 -960 960 960\">\n",
              "    <path d=\"M120-120v-720h720v720H120Zm60-500h600v-160H180v160Zm220 220h160v-160H400v160Zm0 220h160v-160H400v160ZM180-400h160v-160H180v160Zm440 0h160v-160H620v160ZM180-180h160v-160H180v160Zm440 0h160v-160H620v160Z\"/>\n",
              "  </svg>\n",
              "    </button>\n",
              "\n",
              "  <style>\n",
              "    .colab-df-container {\n",
              "      display:flex;\n",
              "      gap: 12px;\n",
              "    }\n",
              "\n",
              "    .colab-df-convert {\n",
              "      background-color: #E8F0FE;\n",
              "      border: none;\n",
              "      border-radius: 50%;\n",
              "      cursor: pointer;\n",
              "      display: none;\n",
              "      fill: #1967D2;\n",
              "      height: 32px;\n",
              "      padding: 0 0 0 0;\n",
              "      width: 32px;\n",
              "    }\n",
              "\n",
              "    .colab-df-convert:hover {\n",
              "      background-color: #E2EBFA;\n",
              "      box-shadow: 0px 1px 2px rgba(60, 64, 67, 0.3), 0px 1px 3px 1px rgba(60, 64, 67, 0.15);\n",
              "      fill: #174EA6;\n",
              "    }\n",
              "\n",
              "    .colab-df-buttons div {\n",
              "      margin-bottom: 4px;\n",
              "    }\n",
              "\n",
              "    [theme=dark] .colab-df-convert {\n",
              "      background-color: #3B4455;\n",
              "      fill: #D2E3FC;\n",
              "    }\n",
              "\n",
              "    [theme=dark] .colab-df-convert:hover {\n",
              "      background-color: #434B5C;\n",
              "      box-shadow: 0px 1px 3px 1px rgba(0, 0, 0, 0.15);\n",
              "      filter: drop-shadow(0px 1px 2px rgba(0, 0, 0, 0.3));\n",
              "      fill: #FFFFFF;\n",
              "    }\n",
              "  </style>\n",
              "\n",
              "    <script>\n",
              "      const buttonEl =\n",
              "        document.querySelector('#df-297de148-232b-4d1a-a7ea-f8a71c729a78 button.colab-df-convert');\n",
              "      buttonEl.style.display =\n",
              "        google.colab.kernel.accessAllowed ? 'block' : 'none';\n",
              "\n",
              "      async function convertToInteractive(key) {\n",
              "        const element = document.querySelector('#df-297de148-232b-4d1a-a7ea-f8a71c729a78');\n",
              "        const dataTable =\n",
              "          await google.colab.kernel.invokeFunction('convertToInteractive',\n",
              "                                                    [key], {});\n",
              "        if (!dataTable) return;\n",
              "\n",
              "        const docLinkHtml = 'Like what you see? Visit the ' +\n",
              "          '<a target=\"_blank\" href=https://colab.research.google.com/notebooks/data_table.ipynb>data table notebook</a>'\n",
              "          + ' to learn more about interactive tables.';\n",
              "        element.innerHTML = '';\n",
              "        dataTable['output_type'] = 'display_data';\n",
              "        await google.colab.output.renderOutput(dataTable, element);\n",
              "        const docLink = document.createElement('div');\n",
              "        docLink.innerHTML = docLinkHtml;\n",
              "        element.appendChild(docLink);\n",
              "      }\n",
              "    </script>\n",
              "  </div>\n",
              "\n",
              "\n",
              "<div id=\"df-361c2500-192f-4c7b-a653-61c13bfa9dfd\">\n",
              "  <button class=\"colab-df-quickchart\" onclick=\"quickchart('df-361c2500-192f-4c7b-a653-61c13bfa9dfd')\"\n",
              "            title=\"Suggest charts\"\n",
              "            style=\"display:none;\">\n",
              "\n",
              "<svg xmlns=\"http://www.w3.org/2000/svg\" height=\"24px\"viewBox=\"0 0 24 24\"\n",
              "     width=\"24px\">\n",
              "    <g>\n",
              "        <path d=\"M19 3H5c-1.1 0-2 .9-2 2v14c0 1.1.9 2 2 2h14c1.1 0 2-.9 2-2V5c0-1.1-.9-2-2-2zM9 17H7v-7h2v7zm4 0h-2V7h2v10zm4 0h-2v-4h2v4z\"/>\n",
              "    </g>\n",
              "</svg>\n",
              "  </button>\n",
              "\n",
              "<style>\n",
              "  .colab-df-quickchart {\n",
              "      --bg-color: #E8F0FE;\n",
              "      --fill-color: #1967D2;\n",
              "      --hover-bg-color: #E2EBFA;\n",
              "      --hover-fill-color: #174EA6;\n",
              "      --disabled-fill-color: #AAA;\n",
              "      --disabled-bg-color: #DDD;\n",
              "  }\n",
              "\n",
              "  [theme=dark] .colab-df-quickchart {\n",
              "      --bg-color: #3B4455;\n",
              "      --fill-color: #D2E3FC;\n",
              "      --hover-bg-color: #434B5C;\n",
              "      --hover-fill-color: #FFFFFF;\n",
              "      --disabled-bg-color: #3B4455;\n",
              "      --disabled-fill-color: #666;\n",
              "  }\n",
              "\n",
              "  .colab-df-quickchart {\n",
              "    background-color: var(--bg-color);\n",
              "    border: none;\n",
              "    border-radius: 50%;\n",
              "    cursor: pointer;\n",
              "    display: none;\n",
              "    fill: var(--fill-color);\n",
              "    height: 32px;\n",
              "    padding: 0;\n",
              "    width: 32px;\n",
              "  }\n",
              "\n",
              "  .colab-df-quickchart:hover {\n",
              "    background-color: var(--hover-bg-color);\n",
              "    box-shadow: 0 1px 2px rgba(60, 64, 67, 0.3), 0 1px 3px 1px rgba(60, 64, 67, 0.15);\n",
              "    fill: var(--button-hover-fill-color);\n",
              "  }\n",
              "\n",
              "  .colab-df-quickchart-complete:disabled,\n",
              "  .colab-df-quickchart-complete:disabled:hover {\n",
              "    background-color: var(--disabled-bg-color);\n",
              "    fill: var(--disabled-fill-color);\n",
              "    box-shadow: none;\n",
              "  }\n",
              "\n",
              "  .colab-df-spinner {\n",
              "    border: 2px solid var(--fill-color);\n",
              "    border-color: transparent;\n",
              "    border-bottom-color: var(--fill-color);\n",
              "    animation:\n",
              "      spin 1s steps(1) infinite;\n",
              "  }\n",
              "\n",
              "  @keyframes spin {\n",
              "    0% {\n",
              "      border-color: transparent;\n",
              "      border-bottom-color: var(--fill-color);\n",
              "      border-left-color: var(--fill-color);\n",
              "    }\n",
              "    20% {\n",
              "      border-color: transparent;\n",
              "      border-left-color: var(--fill-color);\n",
              "      border-top-color: var(--fill-color);\n",
              "    }\n",
              "    30% {\n",
              "      border-color: transparent;\n",
              "      border-left-color: var(--fill-color);\n",
              "      border-top-color: var(--fill-color);\n",
              "      border-right-color: var(--fill-color);\n",
              "    }\n",
              "    40% {\n",
              "      border-color: transparent;\n",
              "      border-right-color: var(--fill-color);\n",
              "      border-top-color: var(--fill-color);\n",
              "    }\n",
              "    60% {\n",
              "      border-color: transparent;\n",
              "      border-right-color: var(--fill-color);\n",
              "    }\n",
              "    80% {\n",
              "      border-color: transparent;\n",
              "      border-right-color: var(--fill-color);\n",
              "      border-bottom-color: var(--fill-color);\n",
              "    }\n",
              "    90% {\n",
              "      border-color: transparent;\n",
              "      border-bottom-color: var(--fill-color);\n",
              "    }\n",
              "  }\n",
              "</style>\n",
              "\n",
              "  <script>\n",
              "    async function quickchart(key) {\n",
              "      const quickchartButtonEl =\n",
              "        document.querySelector('#' + key + ' button');\n",
              "      quickchartButtonEl.disabled = true;  // To prevent multiple clicks.\n",
              "      quickchartButtonEl.classList.add('colab-df-spinner');\n",
              "      try {\n",
              "        const charts = await google.colab.kernel.invokeFunction(\n",
              "            'suggestCharts', [key], {});\n",
              "      } catch (error) {\n",
              "        console.error('Error during call to suggestCharts:', error);\n",
              "      }\n",
              "      quickchartButtonEl.classList.remove('colab-df-spinner');\n",
              "      quickchartButtonEl.classList.add('colab-df-quickchart-complete');\n",
              "    }\n",
              "    (() => {\n",
              "      let quickchartButtonEl =\n",
              "        document.querySelector('#df-361c2500-192f-4c7b-a653-61c13bfa9dfd button');\n",
              "      quickchartButtonEl.style.display =\n",
              "        google.colab.kernel.accessAllowed ? 'block' : 'none';\n",
              "    })();\n",
              "  </script>\n",
              "</div>\n",
              "    </div>\n",
              "  </div>\n"
            ],
            "application/vnd.google.colaboratory.intrinsic+json": {
              "type": "dataframe"
            }
          },
          "metadata": {},
          "execution_count": 115
        }
      ],
      "source": [
        "data[X_var_names]"
      ]
    },
    {
      "cell_type": "markdown",
      "metadata": {
        "id": "SidHOUVNM9H7"
      },
      "source": [
        "# Preventing multi-collinearity"
      ]
    },
    {
      "cell_type": "code",
      "execution_count": 116,
      "metadata": {
        "colab": {
          "base_uri": "https://localhost:8080/"
        },
        "id": "bgpDK_smM8cL",
        "outputId": "772360e3-d3d0-4836-b07b-ec58442755d1"
      },
      "outputs": [
        {
          "output_type": "stream",
          "name": "stdout",
          "text": [
            "strev  indrrev       0.895377\n",
            "value  valuem        0.862420\n",
            "       lev           0.854197\n",
            "roaa   roea          0.849366\n",
            "size   noa           0.768121\n",
            "lev    valuem        0.744991\n",
            "mom    valmomprof    0.742990\n",
            "       valmom        0.742149\n",
            "ep     cfp           0.735346\n",
            "cfp    lev           0.735158\n",
            "dtype: float64\n"
          ]
        }
      ],
      "source": [
        "correlation_matrix = data.drop('re', axis=1).corr() # correlation matrix with correlation coefficients for features\n",
        "\n",
        "correlation_matrix = correlation_matrix.abs()\n",
        "\n",
        "highest_corr = (correlation_matrix.where(np.triu(np.ones(correlation_matrix.shape), k=1).astype(bool)) # create a list of feature pairs\n",
        "                 .stack()\n",
        "                 .sort_values(ascending=False))\n",
        "\n",
        "top_corr_pairs = highest_corr.head(10) # print top 10 pairs of features that are most highly correlated\n",
        "print(top_corr_pairs)"
      ]
    },
    {
      "cell_type": "code",
      "execution_count": 119,
      "metadata": {
        "colab": {
          "base_uri": "https://localhost:8080/"
        },
        "id": "XbXhTjlqPizU",
        "outputId": "54bed46c-3c65-47ac-d795-6c2078534392"
      },
      "outputs": [
        {
          "output_type": "stream",
          "name": "stdout",
          "text": [
            "{'strev': 1, 'indrrev': 1, 'value': 2, 'valuem': 2, 'lev': 3, 'roaa': 1, 'roea': 1, 'size': 1, 'noa': 1, 'mom': 2, 'valmomprof': 1, 'valmom': 1, 'ep': 1, 'cfp': 2}\n",
            "(502636, 42)\n"
          ]
        }
      ],
      "source": [
        "df = data.drop('re', axis=1).copy()\n",
        "\n",
        "# Counting the occurences of each feature in the top 10 to determine what variables have more correlation\n",
        "appearance_count = {}\n",
        "\n",
        "for (var1, var2) in top_corr_pairs.index:\n",
        "    if var1 in appearance_count:\n",
        "        appearance_count[var1] += 1\n",
        "    else:\n",
        "        appearance_count[var1] = 1\n",
        "\n",
        "    if var2 in appearance_count:\n",
        "        appearance_count[var2] += 1\n",
        "    else:\n",
        "        appearance_count[var2] = 1\n",
        "\n",
        "print(appearance_count)\n",
        "variables_to_remove = ['lev', 'valuem','cfp' ] # remove these as they have high counts and are logically redundant\n",
        "processed_data = df.drop(variables_to_remove, axis=1)\n",
        "processed_data['re'] = data['re']\n",
        "\n",
        "print(processed_data.shape)"
      ]
    },
    {
      "cell_type": "markdown",
      "metadata": {
        "id": "Fg1cCRvgTpOV"
      },
      "source": [
        "processed_data now contains the appropriate variables with 3 removed to prevent multicollinearity within our regression model"
      ]
    },
    {
      "cell_type": "code",
      "execution_count": 120,
      "metadata": {
        "id": "de-AeWsGYDVp"
      },
      "outputs": [],
      "source": [
        "train = processed_data.loc[data['year']<2005]\n",
        "test = processed_data.loc[data['year']>=2005]"
      ]
    },
    {
      "cell_type": "markdown",
      "source": [
        "# Model Selection with Cross Validation"
      ],
      "metadata": {
        "id": "37Zpfhc79lRr"
      }
    },
    {
      "cell_type": "code",
      "execution_count": 121,
      "metadata": {
        "id": "kik5toegQkHY"
      },
      "outputs": [],
      "source": [
        "coll_drop = ['re', 'price', 'indrrev'] # drop these as they are either return or derivative of other features\n",
        "X_train = train.drop(coll_drop, axis=1)\n",
        "X_test = test.drop(coll_drop, axis=1)\n",
        "y_train = train.re\n",
        "y_test = test.re"
      ]
    },
    {
      "cell_type": "markdown",
      "source": [],
      "metadata": {
        "id": "DGPigx6s9kYW"
      }
    },
    {
      "cell_type": "code",
      "execution_count": 122,
      "metadata": {
        "colab": {
          "base_uri": "https://localhost:8080/"
        },
        "id": "WsBnygMeQABe",
        "outputId": "251fed5d-a0eb-45e1-b16a-72977425ee70"
      },
      "outputs": [
        {
          "output_type": "stream",
          "name": "stdout",
          "text": [
            "MSE:  0.0019119820193546078\n"
          ]
        }
      ],
      "source": [
        "regr = skl_lm.LinearRegression()\n",
        "regr.fit(scale(X_train), y_train) # fit to train data\n",
        "\n",
        "mse_scores = cross_val_score(regr, scale(X_train), y_train, cv=5) # runs cross validation on train set with 5 folds\n",
        "mean_mse = np.mean(mse_scores)\n",
        "print(\"MSE: \", mean_mse)\n"
      ]
    },
    {
      "cell_type": "code",
      "source": [
        "print(regr.coef_)"
      ],
      "metadata": {
        "colab": {
          "base_uri": "https://localhost:8080/"
        },
        "id": "tbekcYaK44W5",
        "outputId": "cd9815ff-950e-4329-c396-cd149a7fdb4a"
      },
      "execution_count": 123,
      "outputs": [
        {
          "output_type": "stream",
          "name": "stdout",
          "text": [
            "[-1.59218304e-03 -1.00848100e-03 -5.80149144e-05 -2.37346772e-04\n",
            "  1.05756574e-04  5.59631996e-04 -1.31791481e-04  6.72293039e-04\n",
            " -4.69308910e-04  1.19297286e-04 -1.59901792e-03  1.92388279e-05\n",
            " -1.24895901e-04  1.23404258e-03 -7.19103444e-04  6.54156296e-04\n",
            " -3.48472948e-04  1.90013322e-04 -1.28398108e-03  7.74241488e-04\n",
            "  1.17454607e-03 -5.00078450e-03  1.81852598e-03  9.61865226e-04\n",
            "  2.87534500e-03  2.38550996e-03 -1.64085056e-03 -1.09607505e-03\n",
            " -1.45304180e-03  6.71941885e-04  3.14315923e-03 -4.81839000e-03\n",
            "  8.42910492e-04  1.12558916e-03  3.03623964e-03 -1.10410976e-03\n",
            " -1.97594000e-03 -2.51805871e-04  1.33285362e-03]\n"
          ]
        }
      ]
    },
    {
      "cell_type": "code",
      "execution_count": 124,
      "metadata": {
        "id": "5FjOzxGUcff_"
      },
      "outputs": [],
      "source": [
        "alphas = [.005,.01,.05, .1]"
      ]
    },
    {
      "cell_type": "code",
      "execution_count": 125,
      "metadata": {
        "id": "AC_y55WLb9PK",
        "colab": {
          "base_uri": "https://localhost:8080/"
        },
        "outputId": "5c72b47d-1de5-4b59-aa2d-782fa5cf16b4"
      },
      "outputs": [
        {
          "output_type": "stream",
          "name": "stdout",
          "text": [
            "MSE:  0.001911990338743852\n",
            "Alpha:  0.1\n"
          ]
        }
      ],
      "source": [
        "ridgecv = RidgeCV(alphas=alphas) # cross validation with the alphas(hyperparameter) to pick best one\n",
        "ridgecv.fit(scale(X_train), y_train) # fit to train data\n",
        "\n",
        "mse_scores = cross_val_score(ridgecv, scale(X_train), y_train, cv=5) # runs cross validation on train set with 5 folds\n",
        "mean_mse = np.mean(abs(mse_scores))\n",
        "print(\"MSE: \", mean_mse)\n",
        "print(\"Alpha: \", ridgecv.alpha_)\n",
        "# 2 mins to run"
      ]
    },
    {
      "cell_type": "code",
      "source": [
        "print(ridgecv.coef_) # coefficients of features(betas)"
      ],
      "metadata": {
        "colab": {
          "base_uri": "https://localhost:8080/"
        },
        "id": "sY7mWKHb5CDn",
        "outputId": "303c17f4-9fc4-4fd5-f2e5-1f9538f0b98a"
      },
      "execution_count": 126,
      "outputs": [
        {
          "output_type": "stream",
          "name": "stdout",
          "text": [
            "[-1.59217705e-03 -1.00844812e-03 -5.80068182e-05 -2.37329952e-04\n",
            "  1.05756479e-04  5.59631207e-04 -1.31791378e-04  6.72291997e-04\n",
            " -4.69308686e-04  1.19296862e-04 -1.59901243e-03  1.92419353e-05\n",
            " -1.24894317e-04  1.23403606e-03 -7.19102842e-04  6.54155227e-04\n",
            " -3.48472625e-04  1.90013414e-04 -1.28398175e-03  7.74239846e-04\n",
            "  1.17454431e-03 -5.00072921e-03  1.81852444e-03  9.61834979e-04\n",
            "  2.87530162e-03  2.38550561e-03 -1.64085026e-03 -1.09607449e-03\n",
            " -1.45304044e-03  6.71942967e-04  3.14315721e-03 -4.81838830e-03\n",
            "  8.42909825e-04  1.12558887e-03  3.03623921e-03 -1.10410912e-03\n",
            " -1.97593898e-03 -2.51806099e-04  1.33285376e-03]\n"
          ]
        }
      ]
    },
    {
      "cell_type": "code",
      "execution_count": 127,
      "metadata": {
        "id": "U9bOVAuOdHiB",
        "colab": {
          "base_uri": "https://localhost:8080/"
        },
        "outputId": "0dbd6159-64f3-4ffc-ef24-3598b04dd008"
      },
      "outputs": [
        {
          "output_type": "stream",
          "name": "stdout",
          "text": [
            "MSE:  0.0010723204090733684\n",
            "Alpha:  0.1\n"
          ]
        }
      ],
      "source": [
        "lassocv = LassoCV(alphas=alphas)# cross validation with the alphas(hyperparameter) to pick best one\n",
        "lassocv.fit(scale(X_train), y_train) # fit to train data\n",
        "\n",
        "mse_scores = cross_val_score(lassocv, scale(X_train), y_train, cv=5)# runs cross validation on train set with 5 folds\n",
        "mean_mse = np.mean(abs(mse_scores))\n",
        "print(\"MSE: \", mean_mse)\n",
        "print(\"Alpha: \", lassocv.alpha_)\n"
      ]
    },
    {
      "cell_type": "code",
      "source": [
        "print(lassocv.coef_) # coefficients of features(betas)"
      ],
      "metadata": {
        "colab": {
          "base_uri": "https://localhost:8080/"
        },
        "id": "njfwXoob5Gba",
        "outputId": "33eedd36-074b-4505-8f88-7826dc5a6adc"
      },
      "execution_count": 128,
      "outputs": [
        {
          "output_type": "stream",
          "name": "stdout",
          "text": [
            "[-0.  0.  0.  0.  0.  0.  0. -0. -0. -0.  0. -0.  0. -0. -0. -0. -0. -0.\n",
            " -0. -0.  0.  0.  0.  0.  0.  0. -0. -0. -0.  0.  0. -0.  0.  0.  0. -0.\n",
            " -0.  0.  0.]\n"
          ]
        }
      ]
    },
    {
      "cell_type": "code",
      "source": [
        "ridge_coefficients = ridgecv.coef_\n",
        "feature_names = X_train.columns\n",
        "\n",
        "coef_abs_tuples = [(feature_name, abs(coef)) for feature_name, coef in zip(feature_names, ridge_coefficients)] # coefficients of features(betas) list\n",
        "\n",
        "sorted_coef_abs_tuples = sorted(coef_abs_tuples, key=lambda x: x[1], reverse=True) # absolute values of the coefficients\n",
        "\n",
        "# Print sorted feature coefficients\n",
        "print(\"Sorted Coefficients:\")\n",
        "for feature_name, coef_abs in sorted_coef_abs_tuples:\n",
        "    print(f\"{feature_name}: {coef_abs}\")"
      ],
      "metadata": {
        "colab": {
          "base_uri": "https://localhost:8080/"
        },
        "id": "GddMW6wjycXp",
        "outputId": "ac42ec93-3a6e-4abd-954c-4b74e2f9cbb2"
      },
      "execution_count": 129,
      "outputs": [
        {
          "output_type": "stream",
          "name": "stdout",
          "text": [
            "Sorted Coefficients:\n",
            "mom: 0.00500072921075656\n",
            "strev: 0.004818388299717924\n",
            "rome: 0.0031431572057130097\n",
            "season: 0.0030362392123421955\n",
            "valmomprof: 0.0028753016201363835\n",
            "mom12: 0.002385505613631267\n",
            "age: 0.0019759389817295414\n",
            "indmom: 0.0018185244434789638\n",
            "momrev: 0.0016408502625182564\n",
            "aturnover: 0.0015990124308729037\n",
            "size: 0.0015921770466373886\n",
            "nissm: 0.0014530404359476279\n",
            "year: 0.0013328537564234466\n",
            "roaa: 0.001283981753473995\n",
            "noa: 0.0012340360648508408\n",
            "sp: 0.0011745443101514041\n",
            "betaarb: 0.0011255888728101127\n",
            "ciss: 0.0011041091187209418\n",
            "lrrev: 0.0010960744886450158\n",
            "value: 0.0010084481221923625\n",
            "valmom: 0.0009618349789803915\n",
            "ivol: 0.0008429098249820299\n",
            "roea: 0.0007742398460948152\n",
            "inv: 0.0007191028421686951\n",
            "nissa: 0.0006722919974073704\n",
            "roe: 0.0006719429668393673\n",
            "invcap: 0.0006541552269965223\n",
            "debtiss: 0.0005596312068192333\n",
            "accruals: 0.0004693086864762108\n",
            "igrowth: 0.00034847262460413475\n",
            "shvol: 0.0002518060988165871\n",
            "valprof: 0.00023732995154190917\n",
            "sgrowth: 0.00019001341428293017\n",
            "repurch: 0.00013179137779317784\n",
            "ep: 0.00012489431689743924\n",
            "growth: 0.00011929686166922693\n",
            "fscore: 0.0001057564786748344\n",
            "prof: 5.800681816481301e-05\n",
            "gmargins: 1.9241935317992898e-05\n"
          ]
        }
      ]
    },
    {
      "cell_type": "markdown",
      "source": [
        "# **Final Model Evaluation**"
      ],
      "metadata": {
        "id": "n0y3gVQG8nxu"
      }
    },
    {
      "cell_type": "code",
      "source": [
        "mse_scores = cross_val_score(ridgecv, scale(X_test), y_test, cv=5) # cross validation on the test data\n",
        "mean_mse = np.mean(abs(mse_scores))\n",
        "print(\"MSE: \", mean_mse)\n",
        "print(\"Alpha: \", ridgecv.alpha_)\n"
      ],
      "metadata": {
        "colab": {
          "base_uri": "https://localhost:8080/"
        },
        "id": "vbR5saGY8fQt",
        "outputId": "63d903b6-39a0-423a-bf44-3ac23715daee"
      },
      "execution_count": 130,
      "outputs": [
        {
          "output_type": "stream",
          "name": "stdout",
          "text": [
            "MSE:  0.007008092343424544\n",
            "Alpha:  0.1\n"
          ]
        }
      ]
    },
    {
      "cell_type": "code",
      "source": [
        "from sklearn.metrics import r2_score\n",
        "\n",
        "r2_scores = cross_val_score(ridgecv, scale(X_test), y_test, cv=5, scoring='r2') # CV to determine r2\n",
        "mean_r2 = np.mean(r2_scores)\n",
        "print(\"R^2 Score: \", mean_r2)"
      ],
      "metadata": {
        "colab": {
          "base_uri": "https://localhost:8080/"
        },
        "id": "HY1LgqFW9vAB",
        "outputId": "9f012de7-cb87-49eb-b0ee-8164820e638e"
      },
      "execution_count": 131,
      "outputs": [
        {
          "output_type": "stream",
          "name": "stdout",
          "text": [
            "R^2 Score:  -0.007008092343424544\n"
          ]
        }
      ]
    }
  ],
  "metadata": {
    "colab": {
      "provenance": []
    },
    "kernelspec": {
      "display_name": "Python 3",
      "name": "python3"
    }
  },
  "nbformat": 4,
  "nbformat_minor": 0
}